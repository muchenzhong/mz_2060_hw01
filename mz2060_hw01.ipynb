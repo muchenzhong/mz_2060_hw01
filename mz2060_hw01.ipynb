{
 "cells": [
  {
   "cell_type": "markdown",
   "metadata": {},
   "source": [
    "# **Homework 1**\n",
    "\n",
    "Due: September 17th, 5pm (late submission until September 20nd, 5pm -- no submission possible afterwards)\n",
    "\n",
    "25 points total (Problem 1: 8 points, Problem 2: 6 points, Coding Assignment: 11 points)"
   ]
  },
  {
   "cell_type": "markdown",
   "metadata": {},
   "source": [
    "### Name: Muchen Zhong\n",
    "\n",
    "### Link to the github repo: https://github.com/muchenzhong/mz_2060_hw01.git"
   ]
  },
  {
   "cell_type": "markdown",
   "metadata": {},
   "source": [
    "## **Written Assignment**\n",
    "\n",
    "### Introduction: Solidifying Background\n",
    "\n",
    "The purpose of this portion is to fortify your background in probability\n",
    "and statistics, linear algebra, and algorithmic analysis. The topics\n",
    "explored here will be used many times throughout this course.  \n",
    "  \n",
    "You may be able to find answers to these problems by searching the\n",
    "problem text. Please search instead for the concepts being applied; the\n",
    "goal is not to solve these specific problems, but to be comfortable with\n",
    "the principles that will be applied later in the course."
   ]
  },
  {
   "cell_type": "markdown",
   "metadata": {},
   "source": [
    "### **Problem 1: Bayes' Rule** (8 points)\n",
    "\n",
    "Bayes' Rule, or Bayes' Theorem is an oft-used identity coming from\n",
    "probability theory. If we have two events of interest, *A* and *B*, we\n",
    "might want to ask what the probability of *B* is, given that we know *A*\n",
    "happened.\n",
    "\n",
    "$$P(B|A) = \\frac{P(A|B) P(B)}{P(A)}$$\n",
    "\n",
    "Note that this is the same as\n",
    "\n",
    "$$P(B|A) = \\frac{P(A \\cap B)}{P(A)}.$$\n",
    "\n",
    "Later in this course, the parts of this formula may be relabeled:\n",
    "\n",
    "$$\\text{Posterior} = \\frac{\\text{Likelihood} * \\text{Prior}}{\\text{Evidence}}$$\n",
    "\n",
    "This rule will be explicitly used in Bayesian algorithms, but it is also a principle that will *implicitly* underlie almost all of our machine learning algorithms. This problem consists of four parts, each worth 2 points (1 point if the answer is correct and an additional point for showing correct work). As a hint, none of the four parts have the same answer.  \n",
    "\n",
    "For the purposes of this question, assume that desserts have equal probability of being a cake or ice cream and uniform probability of being any of the following 7 flavors: chocolate, vanilla, strawberry, coconut, cookies & cream, fudge, and raspberry.  \n",
    "\n",
    "1.  Suppose Steve has two desserts. What is the probability that both desserts are cakes?\n",
    "\n",
    "2.  Suppose Paul has two desserts, the first of which is ice cream. What is the probability that both desserts are ice cream?\n",
    "\n",
    "3.  Suppose Chace has two desserts and at least one is a cake. What is the probability that both desserts are cakes?\n",
    "\n",
    "4.  Suppose Andrew has two desserts and at least one is chocolate flavored ice cream. What is the probability that both desserts are ice cream?\n"
   ]
  },
  {
   "cell_type": "markdown",
   "metadata": {},
   "source": [
    "**Solution:**\n",
    "\n",
    "1. $$P(\\text{both are cakes}) = P(\\text{cake}) \\times P(\\text{cake}) = \\frac{1}{2} \\times \\frac{1}{2} = \\frac{1}{4 }$$ \n",
    "\n",
    "$$\\text{The probability that both desserts are cakes is }  \\frac{1}{4}$$\n",
    "           \n",
    "       \n",
    "2. $$P(\\text{both are ice cream | first is ice cream}) = \\frac{P(\\text{first is ice cream} \\cap \\text{both are ice cream})}{P(\\text {first is ice cream})}= \\frac{P(\\text{both are ice cream})}{P(\\text {first is ice cream})} = \\frac{\\frac{1}{2}\\times \\frac{1}{2}}{\\frac{1}{2}} = \\frac{1}{2}$$\n",
    "\n",
    "$$\\text{Given that the first is ice cream, the probability that both desserts are ice cream is }  \\frac{1}{2}$$\n",
    "\n",
    "3. $$P(\\text{at least one is cake}) = 1 - P(\\text{both are cakes}) = 1 - \\frac{1}{2} \\times \\frac{1}{2} = 1 - \\frac{1}{4} = \\frac{3}{4} $$\n",
    "\n",
    "$$P(\\text{both are cakes | at least one is cake}) = \\frac{P(\\text{both are cakes})\\cap P(\\text{at least one is cake})}{P(\\text{at least one is cake})} = \\frac{\\frac{1}{4}}{\\frac{3}{4}} = \\frac{1}{3}$$\n",
    "\n",
    "$$\\text{Given that at least one of the two desserts is cake, the probability that both desserts are cakes is }  \\frac{1}{3}$$\n",
    "\n",
    "\n",
    "4. $$P(\\text{both desserts are ice cream} \\mid \\text{at least one is chocolate ice cream}) = \\frac{P(\\text{at least one is chocolate ice cream} \\mid \\text{both desserts are ice cream}) \\times P(\\text{both desserts are ice cream})}{P(\\text{at least one is chocolate ice cream})}$$\n",
    "\n",
    "$$P(\\text{both desserts are ice cream}) = P(\\text{ice cream}) \\times P(\\text{ice cream}) = \\frac{1}{2} \\times \\frac{1}{2} = \\frac{1}{4}$$ \n",
    "\n",
    "$$P(\\text{at least one is chocolate ice cream} \\mid \\text{both desserts are ice cream}) = P(\\text{having two ice cream but neither is chocolate flavor}) = 1 - P(\\text{not chocolate flavor})\\times P(\\text{not chocolate flavor}) = 1 - \\frac{6}{7} \\times \\frac{6}{7} = \\frac{13}{49}$$  \n",
    "\n",
    "$$P(\\text{not chocolate ice cream}) = 1 - P(\\text{chocolate flavor})\\times P(\\text{ice cream}) = 1 - \\frac{1}{7} \\times \\frac{1}{2} = \\frac{13}{14}$$   \n",
    "\n",
    "\n",
    "$$P(\\text{at least one is chocolate ice cream}) = 1 - P(\\text{neither one is chocolate ice cream}) = 1 - \\frac{13}{14} \\times \\frac{13}{14} = 1 - \\frac{169}{196} = \\frac{27}{196}$$\n",
    "\n",
    "$$P(\\text{both desserts are ice cream} \\mid \\text{at least one is chocolate ice cream}) = \\frac{\\frac{13}{49} \\times \\frac{1}{4}}{\\frac{27}{196}} = \\frac{13}{27} $$\n",
    "\n",
    "$$ \\text{Given that Andrew has two desserts and at least one is chocolate flavored ice cream, the probability that both desserts are ice cream is } \\frac{13}{27} $$\n",
    "\n",
    "\n",
    "\n"
   ]
  },
  {
   "cell_type": "markdown",
   "metadata": {},
   "source": [
    "### **Problem 2: Linear algebra review** (6 points)\n",
    "\n",
    "1. Let A = $\\begin{bmatrix} 4 & -5 & 0 & 1 \\\\ 2 & 8 & 0 & 0 \\\\ -1 & 5 & 3 & 2 \\end{bmatrix}$ and B = $\\begin{bmatrix} 3 & -1 & 2 \\\\ 4 & 2 & 0 \\end{bmatrix}$. Calculate the products AB, A<sup>T</sup>B, BA and B<sup>T</sup>A! Solve this problem in markdown without code.\n",
    "\n",
    "2. Describe what a determinant is, why it is important, and how to calculate it for a 3$\\times$3 matrix!\n",
    "\n",
    "3. Let $A = \\in\\mathbb{R}^{n,n}$ be a matrix. A nonzero vector $u$ is an eigenvector of $A$ with a corresponding eigenvalue $\\lambda$ if $Au = \\lambda u$. We call the eigenvector together with its eigenvalue an eigenpair. Find matrix $A$ with eigenpairs ([1,0],2) and ([1,1],3). Solve this problem in markdown without code."
   ]
  },
  {
   "cell_type": "markdown",
   "metadata": {},
   "source": [
    "**Solution:**\n",
    "\n",
    "1. A = $\\begin{bmatrix} 4 & -5 & 0 & 1 \\\\ 2 & 8 & 0 & 0 \\\\ -1 & 5 & 3 & 2 \\end{bmatrix}$\n",
    "\n",
    "   B = $\\begin{bmatrix} 3 & -1 & 2 \\\\ 4 & 2 & 0 \\end{bmatrix}$\n",
    "\n",
    "   A<sup>T = $\\begin{bmatrix} 4 & 2 & -1 \\\\ -5 & 8 & 5 \\\\ 0 & 0 & 3 \\\\ 1 & 0 & 2 \\end{bmatrix}$\n",
    "\n",
    "   B<sup>T = $\\begin{bmatrix} 3 & 4 \\\\ -1 & 2 \\\\ 2 & 0 \\end{bmatrix}$\n",
    "\n",
    "   **A</sup>B is undefined since the number of columns in A, which is 4, does not equal to the number of rows in B, which is 3.**\n",
    "\n",
    "   **BA can be calculated since the number of columns in B, which is 3, equals to the number of rows in A, which is also 3.**\n",
    "\n",
    "   **BA = $\\begin{bmatrix} 8 & -13 & 6 & 7\\\\ 20 & -4 & 0 & 4\\end{bmatrix}$**\n",
    "\n",
    "   the process of calculating BA is shown below:\n",
    "\n",
    "   BA = $\\begin{bmatrix} 3 & -1 & 2 \\\\ 4 & 2 & 0 \\end{bmatrix}\\begin{bmatrix} 4 & -5 & 0 & 1 \\\\ 2 & 8 & 0 & 0 \\\\ -1 & 5 & 3 & 2 \\end{bmatrix}$\n",
    "\n",
    "   BA = $\\begin{bmatrix} 3(4)+(−1)(2)+2(−1) & 3(−5)+(−1)(8)+2(5) & 3(0)+(−1)(0)+2(3) & 3(1)+(−1)(0)+2(2)\\\\ 4(4)+2(2)+0(−1) & 4(−5)+2(8)+0(5) & 4(0)+2(0)+0(3) & 4(1)+2(0)+0(2)\\end{bmatrix}$\n",
    "\n",
    "   BA = $\\begin{bmatrix} 12-2-2 & -15-8+10 & 0+0+6 & 3+0+4\\\\ 16+4+0 & -20+16+0 & 0+0+0 & 4+0+0\\end{bmatrix}$\n",
    "\n",
    "   BA = $\\begin{bmatrix} 8 & -13 & 6 & 7\\\\ 20 & -4 & 0 & 4\\end{bmatrix}$\n",
    "\n",
    "   **A<sup>T</sup>B is also undefined since the number of columns in A<sup>T</sup>, which is 3, is not equals to the number of rows in B, which is 2.**\n",
    "\n",
    "    **B<sup>T</sup>A cannot be calculated since the number of columns in B<sup>T</sup>, which is 2, is not equals to the number of rows in A, which is also 3.**\n",
    "\n",
    "<br>\n",
    "<br>\n",
    "\n",
    "\n",
    "2. Determinant is a single number (a scalar) that can be calculated when we have a square matrix (meaning that the matrix has the same number of rows and columns). Determinant is important since it can provide some important information about this square matrix. For example, it provides us about whether the matrix is invertible: if the determinant is zero, it means the sqaure matrix is singular and non-invertible. On the other hands, if the determinant is non-zero, we can tell that the square matrix is invertible. The determinant can also tracking changes in area or volume and changing variables in intergrals.\n",
    "\n",
    "   We can follow the below steps to calculate the determinant of a 3x3 matrix: \n",
    "\n",
    "   Suppose we have a matrix A, where A = $\\begin{bmatrix} a & b & c \\\\ d & e & f \\\\ g & h & i \\end{bmatrix}$\n",
    "\n",
    "   Then, $$det(A) = a \\cdot \\begin{vmatrix} e & f \\\\ h & i \\end{vmatrix} - b \\cdot \\begin{vmatrix} d & f \\\\ g & i \\end{vmatrix} + c \\cdot \\begin{vmatrix} d & e \\\\ g & h \\end{vmatrix}= a \\cdot ((e \\cdot i) - (f \\cdot h)) - b \\cdot ((d \\cdot i) - (f \\cdot g)) + c \\cdot ((d \\cdot h) - (e \\cdot g))$$\n",
    "    \n",
    "    Calculating this will give us an answer of a single number, which is the determinant of matrix A.\n",
    "\n",
    "    For example, if A = $\\begin{bmatrix} 1 & 0 & 3 \\\\ 2 & 2 & 1 \\\\ 0 & 1 & 2 \\end{bmatrix}$\n",
    "\n",
    "    Then, $$det(A) = 1 \\cdot \\begin{vmatrix} 2 & 1 \\\\ 1 & 2 \\end{vmatrix} - 0 \\cdot \\begin{vmatrix} 2 & 1 \\\\ 0 & 2 \\end{vmatrix} + 3 \\cdot \\begin{vmatrix} 2 & 2 \\\\ 0 & 1 \\end{vmatrix} = 1 \\cdot ((2 \\cdot 2) - (1 \\cdot 1)) - 0 \\cdot ((2 \\cdot 2) - (1 \\cdot 0)) + 3 \\cdot ((2 \\cdot 1) - (2 \\cdot 0))= 9 $$\n",
    "\n",
    "<br>\n",
    "<br>\n",
    "\n",
    "3. We have $ u_1 $ = $\\begin{bmatrix} 1 \\\\ 0 \\end{bmatrix}$, $ \\lambda_1 $ = 2, $ u_2 $ = $\\begin{bmatrix} 1 \\\\ 1 \\end{bmatrix}$, $ \\lambda_2 $ = 3.\n",
    "\n",
    "   We know that $Au = \\lambda u$, therefore, $A\\begin{bmatrix} 1 \\\\ 0 \\end{bmatrix} = 2 \\begin{bmatrix} 1 \\\\ 0 \\end{bmatrix}$ and $A\\begin{bmatrix} 1 \\\\ 1 \\end{bmatrix} = 3 \\begin{bmatrix} 1 \\\\ 1 \\end{bmatrix}$.\n",
    "\n",
    "   We want to find A, and we know A is a square matrix of shape nxn. In order to make the operation valid, A has to be a matrix which has two columns, as its eigen vectors has two rows. Therefore, A is a square matrix shaped in 2x2. We can denote A as $A = \\begin{bmatrix} a & b \\\\ c & d \\end{bmatrix}$.\n",
    "\n",
    "   Now, we have $\\begin{bmatrix} a & b \\\\ c & d \\end{bmatrix}$ $\\begin{bmatrix} 1 \\\\ 0 \\end{bmatrix} = 2 \\begin{bmatrix} 1 \\\\ 0 \\end{bmatrix}$ = $ \\begin{bmatrix} 2 \\\\ 0 \\end{bmatrix}$ and $\\begin{bmatrix} a & b \\\\ c & d \\end{bmatrix}$ $\\begin{bmatrix} 1 \\\\ 1 \\end{bmatrix} = 3 \\begin{bmatrix} 1 \\\\ 1 \\end{bmatrix}$ = $\\begin{bmatrix} 3 \\\\ 3 \\end{bmatrix}$.\n",
    "\n",
    "   First, $\\begin{bmatrix} a & b \\\\ c & d \\end{bmatrix}$ $\\begin{bmatrix} 1 \\\\ 0 \\end{bmatrix} = \\begin{bmatrix} 2 \\\\ 0 \\end{bmatrix}$ would give us $a$ x $1$ + $b$ x $0$ = $a$ = $2$ and $c$ x $1$ + $d$ x $0$ = $c$ = $0$.\n",
    "\n",
    "   Similarly, $\\begin{bmatrix} a & b \\\\ c & d \\end{bmatrix}$ $\\begin{bmatrix} 1 \\\\ 1 \\end{bmatrix} = \\begin{bmatrix} 3 \\\\ 3 \\end{bmatrix}$ would give us $a$ x $1$ + $b$ x $1$ = $a$ + $b$ = $3$ and $c$ x $1$ + $d$ x $1$ = $c$ + $d$ = $3$.\n",
    "\n",
    "   Solving the equations, we got $a$ = $2$, $b$ = $1$, $c$ = $0$, and $d$ = $3$.\n",
    "\n",
    "   Therefore, the final answer of the matrix A is A = $\\begin{bmatrix} 2 & 1 \\\\ 0 & 3 \\end{bmatrix}$.\n",
    "\n",
    "    \n",
    "   \n",
    "\n",
    "\n"
   ]
  },
  {
   "cell_type": "markdown",
   "metadata": {},
   "source": [
    "## **Coding Assignment**\n",
    "\n",
    "### **Numpy and Matplotlib**\n",
    "\n",
    "#### Introduction\n",
    "\n",
    "Please follow the instructions in [this](https://docs.google.com/document/d/1kIxl2TKIdWiRBRAzwgpRR-B7O2Fx_S0mz9ILVw8ATzY/edit?usp=sharing) google doc **before** you start the coding assignment. You will be asked to create a DATA2060 conda environment. We recommend that you use conda but if you are more familiar with other package managers (like docker, homebrew, poetry), feel free to use those. However, please note that the TAs might not be able to help if you do not use conda. The most important thing is to install the packages with their versions as shown in the data2060.yml file of the [course's github repository](https://github.com/BrownDSI/DATA2060-Fall2024). **Two points will be deducted for each failed test, and you'll receive -12 points if you do not run the cell below.**\n",
    "\n",
    "The purpose of this section is to introduce you to some tools that you will find useful and/or necessary in order to complete future homeworks. By the end of this assignment, you will have used numpy to perform efficient computations, loaded standard datasets using sklearn, and used matplotlib to visualize several performance metrics you will be using this semester. This homework will also get you familiar with the hand-in process for jupyter notebooks."
   ]
  },
  {
   "cell_type": "code",
   "execution_count": 1,
   "metadata": {},
   "outputs": [
    {
     "name": "stdout",
     "output_type": "stream",
     "text": [
      "\u001b[42m[ OK ]\u001b[0m Python version is 3.12.5\n",
      "\n",
      "\u001b[42m[ OK ]\u001b[0m matplotlib version 3.9.1 is installed.\n",
      "\u001b[42m[ OK ]\u001b[0m numpy version 2.0.1 is installed.\n",
      "\u001b[42m[ OK ]\u001b[0m sklearn version 1.5.1 is installed.\n",
      "\u001b[42m[ OK ]\u001b[0m pandas version 2.2.2 is installed.\n",
      "\u001b[41m[FAIL]\u001b[0m pytest version 8.3.2 is required, but 8.3.3 installed.\n"
     ]
    }
   ],
   "source": [
    "from __future__ import print_function\n",
    "from packaging.version import parse as Version\n",
    "from platform import python_version\n",
    "\n",
    "OK = '\\x1b[42m[ OK ]\\x1b[0m'\n",
    "FAIL = \"\\x1b[41m[FAIL]\\x1b[0m\"\n",
    "\n",
    "try:\n",
    "    import importlib\n",
    "except ImportError:\n",
    "    print(FAIL, \"Python version 3.12.5 is required,\"\n",
    "                \" but %s is installed.\" % sys.version)\n",
    "\n",
    "def import_version(pkg, min_ver, fail_msg=\"\"):\n",
    "    mod = None\n",
    "    try:\n",
    "        mod = importlib.import_module(pkg)\n",
    "        if pkg in {'PIL'}:\n",
    "            ver = mod.VERSION\n",
    "        else:\n",
    "            ver = mod.__version__\n",
    "        if Version(ver) == Version(min_ver):\n",
    "            print(OK, \"%s version %s is installed.\"\n",
    "                  % (lib, min_ver))\n",
    "        else:\n",
    "            print(FAIL, \"%s version %s is required, but %s installed.\"\n",
    "                  % (lib, min_ver, ver))    \n",
    "    except ImportError:\n",
    "        print(FAIL, '%s not installed. %s' % (pkg, fail_msg))\n",
    "    return mod\n",
    "\n",
    "\n",
    "# first check the python version\n",
    "pyversion = Version(python_version())\n",
    "\n",
    "if pyversion >= Version(\"3.12.5\"):\n",
    "    print(OK, \"Python version is %s\" % pyversion)\n",
    "elif pyversion < Version(\"3.12.5\"):\n",
    "    print(FAIL, \"Python version 3.12.5 is required,\"\n",
    "                \" but %s is installed.\" % pyversion)\n",
    "else:\n",
    "    print(FAIL, \"Unknown Python version: %s\" % pyversion)\n",
    "\n",
    "    \n",
    "print()\n",
    "requirements = {'matplotlib': \"3.9.1\", 'numpy': \"2.0.1\",'sklearn': \"1.5.1\", \n",
    "                'pandas': \"2.2.2\", 'pytest': \"8.3.2\"}\n",
    "\n",
    "# now the dependencies\n",
    "for lib, required_version in list(requirements.items()):\n",
    "    import_version(lib, required_version)"
   ]
  },
  {
   "cell_type": "code",
   "execution_count": 2,
   "metadata": {},
   "outputs": [],
   "source": [
    "# import packages here\n",
    "import numpy as np  # Used to perform efficient (and convenient) array and matrix operations.\n",
    "from sklearn import datasets  # Used to load standard datasets.\n",
    "from matplotlib import pyplot as plt  # Used to create plots.\n",
    "import math  # Used for trigonometric functions, log, pow, etc."
   ]
  },
  {
   "cell_type": "markdown",
   "metadata": {},
   "source": [
    "#### Part 1: Matplotlib (4 points)\n",
    "\n",
    "This question contains functions you need to fill out, `graph_iris_data` and `graph_series_data`. Note that the `plt.show()` call should be the last call, so add all of your graph customization below the TODO, but above the `show()` call!\n",
    "\n",
    "1.  call `plt.scatter(x, y, c=None)`, giving it the following arguments:\n",
    "\n",
    "    -  the `x` argument will be `xs`\n",
    "\n",
    "    -  the `y` argument will be `ys`\n",
    "\n",
    "    -  in order to give the plotted points color, we will specify the optional c argument. Thus, we will pass a third argument, `c = iris.target`\n",
    "\n",
    "2.  Look into the matplotlib.pyplot documentation and learn how to add titles and axis labels to plots. Add a title to the plot of the form \"Made by: \\[your name\\]\".\n",
    "\n",
    "3.  Examine the column names of the iris data to find appropriate x and y labels for the plot, and use pyplot commands to label the axes of the two iris plots."
   ]
  },
  {
   "cell_type": "code",
   "execution_count": 3,
   "metadata": {},
   "outputs": [
    {
     "data": {
      "image/png": "[encoded data removed]",
      "text/plain": [
       "<Figure size 640x480 with 1 Axes>"
      ]
     },
     "metadata": {},
     "output_type": "display_data"
    }
   ],
   "source": [
    "# load the data\n",
    "iris = datasets.load_iris()\n",
    "data = iris.data\n",
    "xs = data[:, 0]\n",
    "ys = data[:, 1]\n",
    "\n",
    "\n",
    "# [TODO] plot iris data here\n",
    "\n",
    "# 1.\n",
    "plt.scatter(xs, ys, c = iris.target) #generate a scatter plot for the two features\n",
    "\n",
    "\n",
    "# 2.\n",
    "plt.title(\"Made by Muchen Zhong\") #set the title of the plot\n",
    "\n",
    "# 3.\n",
    "feature_names = iris.feature_names #load the feature_names for each column\n",
    "#find the feature names for xs and ys and set them as the x and y labels for my plot\n",
    "plt.xlabel(feature_names[0])  \n",
    "plt.ylabel(feature_names[1]) \n",
    "\n",
    "# display the plot\n",
    "plt.show()\n",
    "\n"
   ]
  },
  {
   "cell_type": "markdown",
   "metadata": {},
   "source": [
    "We will use a similar process for `graph_series_data`.\n",
    "\n",
    "1.  call `plt.plot(x, y, format)`, giving it the following arguments:\n",
    "\n",
    "    -  the `x` argument will be `xs`\n",
    "\n",
    "    -  the `y` argument will be `y1s`\n",
    "\n",
    "    -  the `format` argument will be `'.r'`\n",
    "\n",
    "2.  call `plt.plot(x, y, format)` again, giving it the following\n",
    "    arguments:\n",
    "\n",
    "    -  the `x` argument will be `xs`\n",
    "\n",
    "    -  the `y` argument will be `y2s`\n",
    "\n",
    "    -  the `format` argument will be `'-b'`\n",
    "\n",
    "3.  Add a title to the plot of the form \"Made by: \\[your name\\]\".\n",
    "\n",
    "4.  Use pyplot commands to add a legend to the series data plot, where each series is labeled with its function. Look [<u>here</u>](https://matplotlib.org/users/legend_guide.html) to start!"
   ]
  },
  {
   "cell_type": "code",
   "execution_count": 4,
   "metadata": {},
   "outputs": [
    {
     "data": {
      "image/png": "[encoded data removed]",
      "text/plain": [
       "<Figure size 640x480 with 1 Axes>"
      ]
     },
     "metadata": {},
     "output_type": "display_data"
    }
   ],
   "source": [
    "xs = np.arange(100) * .5 - 10  # Creates a list of 100 values in intervals of .5, starting at -10.\n",
    "# Numpy makes it very easy (and efficient) to do elementwise operations on large datasets.\n",
    "y1s = [x*x for x in xs]  # If you are unfamiliar, this is called Python's \"List Comprehension Syntax\"\n",
    "y2s = [math.sin(x)*x*x for x in xs]\n",
    "\n",
    "# https://matplotlib.org/users/pyplot_tutorial.html is a good starting point for more info.\n",
    "# [TODO] plot series data here\n",
    "\n",
    "# 1.\n",
    "line1, = plt.plot(xs, y1s, '.r',label='y = x*x')\n",
    "\n",
    "# 2.\n",
    "line2, = plt.plot(xs, y2s, '-b',label='y = sin(x)*x*x')\n",
    "\n",
    "\n",
    "# 3.\n",
    "plt.title(\"Made by Muchen Zhong\") #set the title of the plot\n",
    "\n",
    "\n",
    "#4.\n",
    "plt.legend(handles=[line1, line2])\n",
    "\n",
    "# display the plot\n",
    "plt.show()\n",
    "\n",
    "\n"
   ]
  },
  {
   "cell_type": "markdown",
   "metadata": {},
   "source": [
    "#### Part 2: Numpy (7 points)\n",
    "\n",
    "Answer the following questions using numpy functions. Note that when importing numpy, it is often abbreviated to np (i.e., `import numpy as np`), so when calling numpy functions, you can use np.\\[function\\]. Further, note that you may NOT use the np array constructor to solve these questions (i.e., `np.array(...)`). Some functions you may want to consider to approach this problem are `np.arange`, `np.zeros`, `np.ones`, `np.eye`, `np.sum`, `np.hstack`, `np.vstack`, `np.transpose`, `np.matmul`, `np.inner`, `np.where` and `np.dot`.\n",
    "\n",
    "-  Using numpy, how would you create a 1D array containing the values 2\n",
    "    through 6 inclusive?"
   ]
  },
  {
   "cell_type": "code",
   "execution_count": 5,
   "metadata": {},
   "outputs": [
    {
     "name": "stdout",
     "output_type": "stream",
     "text": [
      "[2 3 4 5 6]\n"
     ]
    }
   ],
   "source": [
    "# Solution:\n",
    "\n",
    "import numpy as np\n",
    "\n",
    "# create a 1D array with values 2 through 6 inclusive\n",
    "my_array = np.arange(2, 7)\n",
    "print(my_array)"
   ]
  },
  {
   "cell_type": "markdown",
   "metadata": {},
   "source": [
    "-  Using numpy, how would you create a 4x4 matrix where all the values\n",
    "    are 1?"
   ]
  },
  {
   "cell_type": "code",
   "execution_count": 6,
   "metadata": {},
   "outputs": [
    {
     "name": "stdout",
     "output_type": "stream",
     "text": [
      "[[1. 1. 1. 1.]\n",
      " [1. 1. 1. 1.]\n",
      " [1. 1. 1. 1.]\n",
      " [1. 1. 1. 1.]]\n"
     ]
    }
   ],
   "source": [
    "# Solution:\n",
    "\n",
    "import numpy as np\n",
    "\n",
    "# create a 4x4 matrix of ones\n",
    "my_matrix = np.ones((4, 4))\n",
    "print(my_matrix)\n"
   ]
  },
  {
   "cell_type": "markdown",
   "metadata": {},
   "source": [
    "-  Using numpy, how would you create a 6x6 identity matrix?"
   ]
  },
  {
   "cell_type": "code",
   "execution_count": 7,
   "metadata": {},
   "outputs": [
    {
     "name": "stdout",
     "output_type": "stream",
     "text": [
      "[[1. 0. 0. 0. 0. 0.]\n",
      " [0. 1. 0. 0. 0. 0.]\n",
      " [0. 0. 1. 0. 0. 0.]\n",
      " [0. 0. 0. 1. 0. 0.]\n",
      " [0. 0. 0. 0. 1. 0.]\n",
      " [0. 0. 0. 0. 0. 1.]]\n"
     ]
    }
   ],
   "source": [
    "# Solution:\n",
    "\n",
    "import numpy as np\n",
    "# create a 6x6 identity matrix\n",
    "my_identity_matrix = np.eye(6)\n",
    "print(my_identity_matrix)"
   ]
  },
  {
   "cell_type": "markdown",
   "metadata": {},
   "source": [
    "-  Using numpy, how would you sum the values of each column of matrix\n",
    "    A?"
   ]
  },
  {
   "cell_type": "code",
   "execution_count": 8,
   "metadata": {},
   "outputs": [
    {
     "name": "stdout",
     "output_type": "stream",
     "text": [
      "[5 7 9]\n"
     ]
    }
   ],
   "source": [
    "# Solution:\n",
    "\n",
    "import numpy as np\n",
    "\n",
    "# create a sample matrix\n",
    "matrix_A = np.arange(1, 7).reshape(2, 3)\n",
    "\n",
    "my_sum = np.sum(matrix_A, axis=0)\n",
    "\n",
    "# display the result\n",
    "print(my_sum)\n"
   ]
  },
  {
   "cell_type": "markdown",
   "metadata": {},
   "source": [
    "-  Using numpy, given the matrices `A` and `B`, how would you find the\n",
    "    matrix `C`, where `C` = `A`<sup>*T*</sup>`B`?"
   ]
  },
  {
   "cell_type": "code",
   "execution_count": 9,
   "metadata": {},
   "outputs": [
    {
     "name": "stdout",
     "output_type": "stream",
     "text": [
      "Solution for sample 1 is:\n",
      "[[ 51  56  61  66]\n",
      " [ 69  76  83  90]\n",
      " [ 87  96 105 114]]\n",
      "Solution for sample 2 is:\n",
      "Invalid operation: A_T has 2 columns but B has 3 rows. These two values should be equal.\n"
     ]
    }
   ],
   "source": [
    "# Solution:\n",
    "\n",
    "import numpy as np\n",
    "\n",
    "def A_T_B_Calculator(A, B):\n",
    "    A_T = np.transpose(A) # calculate the transpost of matrix A\n",
    "    \n",
    "    # notice that in order to ensure the operation valid, the number of columns in A_T must be equal to the number of rows in B\n",
    "    if A_T.shape[1] == B.shape[0]:\n",
    "        C = np.matmul(A_T, B) \n",
    "        return C\n",
    "    else:\n",
    "        return f\"Invalid operation: A_T has {A_T.shape[1]} columns but B has {B.shape[0]} rows. These two values should be equal.\"\n",
    "   \n",
    "\n",
    "#sample 1, where the the operation is valid\n",
    "matrix_A1 = np.arange(1, 7).reshape(2, 3)  # 2x3 matrix\n",
    "matrix_B1 = np.arange(7, 15).reshape(2, 4)  # 2x4 matrix\n",
    "\n",
    "print(\"Solution for sample 1 is:\\n\" + str(A_T_B_Calculator(matrix_A1, matrix_B1)))\n",
    "\n",
    "#sample 2, where the the operation is not valid\n",
    "matrix_A2 = np.arange(1, 7).reshape(2, 3)  # 2x3 matrix\n",
    "matrix_B2 = np.arange(1, 7).reshape(3, 2)  # 3x2 matrix\n",
    "\n",
    "print(\"Solution for sample 2 is:\\n\" + str(A_T_B_Calculator(matrix_A2, matrix_B2)))\n"
   ]
  },
  {
   "cell_type": "markdown",
   "metadata": {},
   "source": [
    "-  Using numpy, using either np.vstack or np.hstack, how would you\n",
    "    create a 4x2 matrix where all the values in the first column are 0’s\n",
    "    and all the values in the second column are 1’s?"
   ]
  },
  {
   "cell_type": "code",
   "execution_count": 10,
   "metadata": {},
   "outputs": [
    {
     "name": "stdout",
     "output_type": "stream",
     "text": [
      "[[0. 1.]\n",
      " [0. 1.]\n",
      " [0. 1.]\n",
      " [0. 1.]]\n"
     ]
    }
   ],
   "source": [
    "# Solution:\n",
    "\n",
    "import numpy as np\n",
    "\n",
    "#generate a 4x1 column vector of 0's\n",
    "col_zeros = np.zeros((4, 1))\n",
    "\n",
    "#generate a 4x1 column vector of 1's\n",
    "col_ones = np.ones((4, 1))\n",
    "\n",
    "#use hstack to stack them\n",
    "result_matrix = np.hstack((col_zeros, col_ones))\n",
    "\n",
    "print(result_matrix)\n"
   ]
  },
  {
   "cell_type": "markdown",
   "metadata": {},
   "source": [
    "-  Given a matrix of floats A, using numpy, how would you return an\n",
    "    array of the same shape, where all values \\> 3.0 are set to 1, and\n",
    "    the rest to 0?"
   ]
  },
  {
   "cell_type": "code",
   "execution_count": 11,
   "metadata": {},
   "outputs": [
    {
     "name": "stdout",
     "output_type": "stream",
     "text": [
      "The input matrix is:\n",
      "[[-1.5 -0.5  0.5]\n",
      " [ 1.5  2.5  3.5]]\n",
      "The output matrix is:\n",
      "[[0 0 0]\n",
      " [0 0 1]]\n"
     ]
    }
   ],
   "source": [
    "# Solution:\n",
    "\n",
    "import numpy as np\n",
    "\n",
    "def set_greater_than_3_to_1(input_matrix):\n",
    "    result_matrix = np.where(input_matrix>3.0, 1, 0)\n",
    "    return result_matrix\n",
    "\n",
    "A = np.linspace(-1.5, 3.5, 6).reshape((2, 3))\n",
    "\n",
    "print(\"The input matrix is:\\n\" + str(A))\n",
    "print(\"The output matrix is:\\n\" + str(set_greater_than_3_to_1(A)))\n"
   ]
  },
  {
   "cell_type": "code",
   "execution_count": null,
   "metadata": {},
   "outputs": [],
   "source": []
  },
  {
   "cell_type": "code",
   "execution_count": null,
   "metadata": {},
   "outputs": [],
   "source": []
  }
 ],
 "metadata": {
  "kernelspec": {
   "display_name": "Python 3 (ipykernel)",
   "language": "python",
   "name": "python3"
  },
  "language_info": {
   "codemirror_mode": {
    "name": "ipython",
    "version": 3
   },
   "file_extension": ".py",
   "mimetype": "text/x-python",
   "name": "python",
   "nbconvert_exporter": "python",
   "pygments_lexer": "ipython3",
   "version": "3.12.5"
  },
  "vscode": {
   "interpreter": {
    "hash": "bcd9bc17ffadb8b3c09124f861805f4f094648af93180b87f0218364b7d0c0de"
   }
  }
 },
 "nbformat": 4,
 "nbformat_minor": 4
}
